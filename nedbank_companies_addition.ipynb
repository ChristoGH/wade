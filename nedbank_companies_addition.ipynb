{
 "cells": [
  {
   "cell_type": "markdown",
   "metadata": {},
   "source": [
    "###  This is the master company addition file.\n",
    "####  It adds entries to the nedbank_companies collection in lookubs db on the MongoDb"
   ]
  },
  {
   "cell_type": "code",
   "execution_count": 6,
   "metadata": {
    "collapsed": true
   },
   "outputs": [],
   "source": [
    "import sys\n",
    "sys.path.insert(0, '/home/christo/notebooks/christo/prod/')\n",
    "sys.path.insert(0, '/home/christo/notebooks/christo/company_maintenance_scripts/')"
   ]
  },
  {
   "cell_type": "code",
   "execution_count": 7,
   "metadata": {},
   "outputs": [],
   "source": [
    "from nedbank_companies_addition_lib import maxindexfn, mongo_regex_searchstring\n",
    "from nedbank_companies_addition_lib import nedbankcompany_class_check, classlookupfn, input_dict_fn, mongo_regex_searchstring_row\n",
    "from nedbank_companies_addition_lib import  nedbank_companies_db, regex_searchstring"
   ]
  },
  {
   "cell_type": "code",
   "execution_count": 8,
   "metadata": {
    "collapsed": true
   },
   "outputs": [],
   "source": [
    "import re\n",
    "import pandas as pd\n",
    "from NedbankSpendPy import  client\n",
    "import time\n",
    "import numpy as np\n",
    "from collections import Counter\n",
    "from datetime import datetime"
   ]
  },
  {
   "cell_type": "markdown",
   "metadata": {},
   "source": [
    "Assign the subclass_id.  Check if it exists.  If it doesn't, it needs to be added using new_classification.js\n",
    "Find the appropriate subclass_id in \"Classifications Standard Industrial Classification of all Economic Activities\n",
    "(SIC) Seventh Edition\" here (http://www.statssa.gov.za/classifications/codelists/Web_SIC7a/SIC_7_Final_Manual_Errata.pdf)"
   ]
  },
  {
   "cell_type": "code",
   "execution_count": 9,
   "metadata": {
    "collapsed": true
   },
   "outputs": [],
   "source": [
    "nedbank_companies_df=pd.DataFrame(list(client.lookups['nedbank_companies'].find({})))\n",
    "subclass_id_list=[56101,47110,47610,45500,47620]\n",
    "generic_avoidlist=[]\n",
    "for subclass_id in subclass_id_list:\n",
    "    for aliases in nedbank_companies_df[nedbank_companies_df.subclass_id==subclass_id].aliases:\n",
    "        for alias in aliases:\n",
    "#             print(alias)\n",
    "            generic_avoidlist.append(alias)"
   ]
  },
  {
   "cell_type": "code",
   "execution_count": 10,
   "metadata": {
    "collapsed": true
   },
   "outputs": [],
   "source": [
    "generic_avoidlist.append('NANDOS')\n",
    "generic_avoidlist.index('NANDOS')\n",
    "generic_avoidlist.append('OCEAN BASKET')\n",
    "generic_avoidlist.append('BEAUTY')\n",
    "generic_avoidlist.append('SERVICE STATION')\n",
    "generic_avoidlist.append('KauaiCascades')\n",
    "generic_avoidlist.append('WimpyCabanas')\n",
    "generic_avoidlist.append('QUEENSPARK')\n",
    "generic_avoidlist.append('DALPARK PLAZA')\n",
    "generic_avoidlist.append('BAR')\n",
    "generic_avoidlist.append('RESTA')\n",
    "# DALPARK PLAZA\n",
    "generic_avoidlist=list(set(generic_avoidlist))"
   ]
  },
  {
   "cell_type": "code",
   "execution_count": 11,
   "metadata": {
    "collapsed": true
   },
   "outputs": [],
   "source": [
    "subclass_id = 55101 # look carefully at this assignment!\n",
    "companyname='TRAVELSTART'; # Assign the companyname.  This how it is found by other scripts!\n",
    "groupname='TRAVEL'; # Assign the group name:\n",
    "aliases=['TRAVELSTART'];# Define the alias list. This is IMPORTANT. \n",
    "# It is the key code that will find this entity in the clientswipes db \n",
    "# It is the actual string that will search the franchise names\n",
    "generic_avoidlist.append('NANDOS');# Define the anti-aliases, if NO antialias is necessary leave the list EMPTY, NOT and empty string:\n",
    "channel = 0, # bricks and mortar == 0; mixed == 1; online == 2\n",
    "discretionary = 2; #non-discretionary == 0; mixed == 1; discretionary == 2\n",
    "period='201907'\n",
    "start_date=datetime(2019,7,1)\n",
    "end_date=datetime(2019,7,31)\n",
    "generic_avoidlist=list(set(generic_avoidlist))"
   ]
  },
  {
   "cell_type": "markdown",
   "metadata": {},
   "source": [
    "Construct the regex string here:"
   ]
  },
  {
   "cell_type": "code",
   "execution_count": 18,
   "metadata": {
    "collapsed": true
   },
   "outputs": [],
   "source": [
    "avoidlist=[]\n",
    "aliases=['BOLT','TAXIFY']\n",
    "period='201907'\n",
    "start_date=datetime(2019,7,1)\n",
    "end_date=datetime(2019,7,5)"
   ]
  },
  {
   "cell_type": "code",
   "execution_count": 19,
   "metadata": {},
   "outputs": [
    {
     "name": "stdout",
     "output_type": "stream",
     "text": [
      "Construct regex string ...\n",
      "aliases =  ['BOLT', 'TAXIFY']\n",
      "regex_alias_str =  BOLT|TAXIFY\n",
      "regex_avoid_str =  \n",
      "(?m)^.*BOLT|TAXIFY.*$ re.compile('(?m)^.*BOLT|TAXIFY.*$', re.IGNORECASE|re.MULTILINE)\n"
     ]
    }
   ],
   "source": [
    "regex_str=mongo_regex_searchstring(aliases=aliases,avoidlist=avoidlist)\n",
    "regex_str_compiled = re.compile(regex_str, re.IGNORECASE)\n",
    "print(regex_str, regex_str_compiled)"
   ]
  },
  {
   "cell_type": "markdown",
   "metadata": {},
   "source": [
    "Check if the names exist, this may take a minute or two!"
   ]
  },
  {
   "cell_type": "markdown",
   "metadata": {},
   "source": [
    "### The following snippet search franchisenames for the regular expression string defined by regex_str.\n",
    "``` \n",
    "It gives out put that serves as a guide\n",
    "```"
   ]
  },
  {
   "cell_type": "code",
   "execution_count": null,
   "metadata": {
    "collapsed": true
   },
   "outputs": [],
   "source": [
    "collection=client.behaviourdb['clientswipes_{period}'.format(period=period)]\n",
    "\n",
    "find_dict= {\n",
    "    'TransactionAmount':{'$lt':0},\n",
    "    'TransactionDate':\n",
    "        {\n",
    "            '$gte':start_date,\n",
    "            '$lt':end_date\n",
    "        },\n",
    "    'franchisename': \n",
    "        {\n",
    "            '$regex': re.compile(regex_str, re.IGNORECASE)\n",
    "        },\n",
    "    'companyname': \n",
    "        {\n",
    "            '$exists': False\n",
    "        }    \n",
    "    }\n",
    "\n",
    "\n",
    "df=pd.DataFrame(list(collection.find(find_dict)))\n",
    "\n",
    "df.shape\n",
    "franchisenamelist = list(set(df.franchisename))\n",
    "franchisenamelist.sort(reverse = True)\n",
    "franchisenamelist"
   ]
  },
  {
   "cell_type": "code",
   "execution_count": null,
   "metadata": {
    "collapsed": true
   },
   "outputs": [],
   "source": [
    "df.shape"
   ]
  },
  {
   "cell_type": "markdown",
   "metadata": {},
   "source": [
    "Look at the unique return values:"
   ]
  },
  {
   "cell_type": "code",
   "execution_count": null,
   "metadata": {
    "collapsed": true
   },
   "outputs": [],
   "source": [
    "franchisenamelist"
   ]
  },
  {
   "cell_type": "markdown",
   "metadata": {},
   "source": [
    "Look at the contents of the result:"
   ]
  },
  {
   "cell_type": "code",
   "execution_count": null,
   "metadata": {
    "collapsed": true
   },
   "outputs": [],
   "source": [
    "df"
   ]
  },
  {
   "cell_type": "code",
   "execution_count": null,
   "metadata": {
    "collapsed": true
   },
   "outputs": [],
   "source": [
    "result_df=df[['franchisename','TransactionAmount']].groupby('franchisename').sum()\n",
    "result_df.reset_index(inplace=True)\n",
    "result_df.sort_values('TransactionAmount',inplace=True)\n",
    "result_df.TransactionAmount.cumsum()"
   ]
  },
  {
   "cell_type": "code",
   "execution_count": null,
   "metadata": {
    "collapsed": true
   },
   "outputs": [],
   "source": [
    "result_df"
   ]
  },
  {
   "cell_type": "markdown",
   "metadata": {},
   "source": [
    "### Are you OK with the above results?\n",
    "#### If yes, then construct the input dictionary like so, paying careful attention to the output:"
   ]
  },
  {
   "cell_type": "code",
   "execution_count": null,
   "metadata": {
    "collapsed": true
   },
   "outputs": [],
   "source": [
    "find_regex_str = regex_searchstring(aliases, avoidlist)"
   ]
  },
  {
   "cell_type": "code",
   "execution_count": null,
   "metadata": {
    "collapsed": true
   },
   "outputs": [],
   "source": [
    "input_dict = input_dict_fn(companyname=companyname,\n",
    "                           avoidlists=avoidlist,\n",
    "                           subclass_id = subclass_id,\n",
    "                  aliases = aliases,\n",
    "                  channel = channel,\n",
    "                  discretionary = discretionary,\n",
    "                  groupname=groupname,\n",
    "                          regex_str=find_regex_str)"
   ]
  },
  {
   "cell_type": "markdown",
   "metadata": {},
   "source": [
    "```\n",
    "Look CAREFULLY at the output below.  This is what is going into the db.  It will affect everything downstream\n",
    "```"
   ]
  },
  {
   "cell_type": "code",
   "execution_count": null,
   "metadata": {
    "collapsed": true
   },
   "outputs": [],
   "source": [
    "input_dict"
   ]
  },
  {
   "cell_type": "markdown",
   "metadata": {},
   "source": [
    "```\n",
    "The following code inserts it into the db:\n",
    "```"
   ]
  },
  {
   "cell_type": "code",
   "execution_count": null,
   "metadata": {
    "collapsed": true
   },
   "outputs": [],
   "source": [
    "nedbank_companies_db.insert_one(input_dict)"
   ]
  },
  {
   "cell_type": "markdown",
   "metadata": {},
   "source": [
    "```\n",
    "The following code now adds the regex string to the company entry to the company record.  It does this for ALL documents.\n",
    "```"
   ]
  },
  {
   "cell_type": "code",
   "execution_count": null,
   "metadata": {
    "collapsed": true
   },
   "outputs": [],
   "source": [
    "new_searchdf = pd.DataFrame(list(client.lookups['nedbank_companies'].find()))\n",
    "for index, row in new_searchdf.iterrows():\n",
    "    regex_str = mongo_regex_searchstring_row(row)\n",
    "    results = client.lookups['nedbank_companies'].update_one({ '_id': row['_id'] }, {'$set': {'regex_str':regex_str}} )\n",
    "    print('modified: ',results.modified_count, 'for ', row[\"companyname\"])"
   ]
  },
  {
   "cell_type": "markdown",
   "metadata": {},
   "source": [
    "## Here we do an analysis of transaction found in the clientswipes db"
   ]
  },
  {
   "cell_type": "code",
   "execution_count": null,
   "metadata": {
    "collapsed": true
   },
   "outputs": [],
   "source": [
    "collection=client.behaviourdb['clientswipes_{period}'.format(period=period)]"
   ]
  },
  {
   "cell_type": "code",
   "execution_count": null,
   "metadata": {
    "collapsed": true
   },
   "outputs": [],
   "source": [
    "nedbank_companies_df=pd.DataFrame(list(client.lookups['nedbank_companies'].find({})))\n",
    "nedbank_companies_df.to_csv('/home/christo/data/nedbank_companies_df.csv')"
   ]
  },
  {
   "cell_type": "code",
   "execution_count": null,
   "metadata": {
    "collapsed": true,
    "scrolled": false
   },
   "outputs": [],
   "source": [
    "list(nedbank_companies_df)"
   ]
  },
  {
   "cell_type": "code",
   "execution_count": null,
   "metadata": {
    "collapsed": true
   },
   "outputs": [],
   "source": [
    "df=nedbank_companies_df[nedbank_companies_df.subclass_id==subclass_id]"
   ]
  },
  {
   "cell_type": "code",
   "execution_count": null,
   "metadata": {
    "collapsed": true
   },
   "outputs": [],
   "source": [
    "subclass_id"
   ]
  },
  {
   "cell_type": "code",
   "execution_count": null,
   "metadata": {
    "collapsed": true
   },
   "outputs": [],
   "source": [
    "def find_dict_fn(regex_str, start_date, end_date):\n",
    "    return {\n",
    "    'TransactionDate':\n",
    "        {\n",
    "            '$gte':start_date,\n",
    "            '$lt':end_date\n",
    "        },\n",
    "    'franchisename': \n",
    "        {\n",
    "            '$regex': re.compile(regex_str, re.IGNORECASE)\n",
    "        },\n",
    "#     'companyname': \n",
    "#         {\n",
    "#             '$exists': False\n",
    "#         }    \n",
    "    }\n",
    "# return find_dict"
   ]
  },
  {
   "cell_type": "code",
   "execution_count": null,
   "metadata": {
    "collapsed": true
   },
   "outputs": [],
   "source": [
    "df[df.companyname==\"SUN CITY\"].regex_str.values[0]"
   ]
  },
  {
   "cell_type": "code",
   "execution_count": null,
   "metadata": {
    "collapsed": true
   },
   "outputs": [],
   "source": [
    "regex_str=df[df.companyname==\"SUN CITY\"].regex_str.values[0]\n",
    "avoidlist=df[df.companyname==\"SUN CITY\"].avoidlists.values[0]\n",
    "aliases=df[df.companyname==\"SUN CITY\"].aliases.values[0]"
   ]
  },
  {
   "cell_type": "code",
   "execution_count": null,
   "metadata": {
    "collapsed": true
   },
   "outputs": [],
   "source": [
    "avoidlist.index('NANDOS')"
   ]
  },
  {
   "cell_type": "code",
   "execution_count": null,
   "metadata": {
    "collapsed": true
   },
   "outputs": [],
   "source": [
    "output = pd.DataFrame()\n",
    "df=nedbank_companies_df[nedbank_companies_df.subclass_id==subclass_id]\n",
    "for regex_str, companyname, groupname in zip(list(df.regex_str), list(df.companyname), list(df.groupname)):\n",
    "    print('companyname: ',companyname,', groupname: ',groupname)\n",
    "#     print(regex_str,companyname,groupname)\n",
    "    find_dict = find_dict_fn(regex_str, start_date, end_date)\n",
    "    success=False\n",
    "    count=0\n",
    "    while not success and count<100:\n",
    "        try:\n",
    "            count+=1\n",
    "            print(count)\n",
    "            find_df=pd.DataFrame(list(collection.find(find_dict)))\n",
    "            if not find_df.empty:\n",
    "                franchisenamelist = list(set(find_df.franchisename))    \n",
    "                for franchisename in franchisenamelist:\n",
    "                    gf=find_df[find_df.franchisename==franchisename]\n",
    "                    print('count: ',count,', companyname: ',companyname,', groupname: ',groupname, ', franchisename ',franchisename,\n",
    "                          ', total_amount: ', sum(gf.TransactionAmount),\n",
    "                         ', total_count: ',gf.shape[0])\n",
    "                    df_dict={'companyname':companyname,\n",
    "                             'groupname':groupname,\n",
    "                             'franchisename':franchisename,\n",
    "                             'total_amount':sum(gf.TransactionAmount),\n",
    "                            'total_count':gf.shape[0]}\n",
    "                    output = output.append(df_dict, ignore_index=True)\n",
    "            success=True\n",
    "        except Exception as e:\n",
    "            print('Error in with message {e}'.format(e=e))\n",
    "            time.sleep(60)\n"
   ]
  },
  {
   "cell_type": "code",
   "execution_count": null,
   "metadata": {
    "collapsed": true
   },
   "outputs": [],
   "source": [
    "output.shape"
   ]
  },
  {
   "cell_type": "code",
   "execution_count": null,
   "metadata": {
    "collapsed": true
   },
   "outputs": [],
   "source": [
    "output.to_csv(path_or_buf='/home/christo/data/hotel_franchise_output_v3.csv')"
   ]
  },
  {
   "cell_type": "markdown",
   "metadata": {},
   "source": [
    "### In what follows we ADD a generic avoid list to the existing avoid list of each company in df:"
   ]
  },
  {
   "cell_type": "code",
   "execution_count": null,
   "metadata": {
    "collapsed": true
   },
   "outputs": [],
   "source": [
    "subclass_id"
   ]
  },
  {
   "cell_type": "code",
   "execution_count": null,
   "metadata": {
    "collapsed": true
   },
   "outputs": [],
   "source": [
    "nedbank_companies_df=pd.DataFrame(list(client.lookups['nedbank_companies'].find({})))\n",
    "df=nedbank_companies_df[nedbank_companies_df.subclass_id==subclass_id]\n",
    "for companyname in list(df.companyname):\n",
    "    print(companyname)\n",
    "    l=list(client.lookups['nedbank_companies'].find({'companyname':companyname}))\n",
    "    doc=l[0]\n",
    "    newdoc=doc\n",
    "    newdoc['avoidlists']=list(set(doc['avoidlists']+generic_avoidlist))\n",
    "    find_regex_str = regex_searchstring(newdoc['aliases'], newdoc['avoidlists'])\n",
    "    client.lookups['nedbank_companies'].update_one({'_id':newdoc['_id']},{'$set':{'avoidlists':newdoc['avoidlists'],\n",
    "                                                                                 'regex_str':find_regex_str},\n",
    "                                                                          '$unset':{'(?m)^(?!':1,'title':1}})"
   ]
  },
  {
   "cell_type": "code",
   "execution_count": null,
   "metadata": {
    "collapsed": true
   },
   "outputs": [],
   "source": [
    "generic_avoidlist"
   ]
  },
  {
   "cell_type": "code",
   "execution_count": null,
   "metadata": {
    "collapsed": true
   },
   "outputs": [],
   "source": [
    "generic_avoidlist.index('BAR')"
   ]
  },
  {
   "cell_type": "code",
   "execution_count": null,
   "metadata": {
    "collapsed": true
   },
   "outputs": [],
   "source": []
  }
 ],
 "metadata": {
  "kernelspec": {
   "display_name": "Python 3",
   "language": "python",
   "name": "python3"
  },
  "language_info": {
   "codemirror_mode": {
    "name": "ipython",
    "version": 3
   },
   "file_extension": ".py",
   "mimetype": "text/x-python",
   "name": "python",
   "nbconvert_exporter": "python",
   "pygments_lexer": "ipython3",
   "version": "3.6.3"
  }
 },
 "nbformat": 4,
 "nbformat_minor": 2
}
