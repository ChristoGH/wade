{
 "cells": [
  {
   "cell_type": "code",
   "execution_count": 1,
   "metadata": {
    "collapsed": true
   },
   "outputs": [],
   "source": [
    "import sys\n",
    "sys.path.insert(0, '/home/christo/notebooks/christo/prod/')\n",
    "sys.path.insert(0, '/home/christo/notebooks/christo/company_maintenance_scripts/')\n",
    "import re\n",
    "import pandas as pd\n",
    "from NedbankSpendPy import  client\n",
    "import time\n",
    "from datetime import datetime "
   ]
  },
  {
   "cell_type": "code",
   "execution_count": 2,
   "metadata": {
    "collapsed": true
   },
   "outputs": [],
   "source": [
    "from nedbank_companies_addition_lib import maxindexfn, mongo_regex_searchstring\n",
    "from nedbank_companies_addition_lib import nedbankcompany_class_check, classlookupfn, input_dict_fn, mongo_regex_searchstring_row\n",
    "from nedbank_companies_addition_lib import  nedbank_companies_db, regex_searchstring"
   ]
  },
  {
   "cell_type": "code",
   "execution_count": 3,
   "metadata": {
    "collapsed": true
   },
   "outputs": [],
   "source": [
    "def franchise_agg_fn(collection):\n",
    "    return pd.DataFrame(\n",
    "    list(collection.aggregate([{'$match':\n",
    "                                                        {\n",
    "                                                            'companyname':\n",
    "                                                            {\n",
    "                                                                '$exists':True\n",
    "                                                            }\n",
    "                                                        }\n",
    "                                                       },\n",
    "                                                       {'$project':{\n",
    "                                                           'companyname':1,\n",
    "                                                           'franchisename':1,\n",
    "                                                           'Dedupegroup':1,\n",
    "#                                                            'companyindex':1,\n",
    "                                                           'TransactionAmount':1}},\n",
    "                                                       {\n",
    "                                                           '$group':\n",
    "                                                           {\n",
    "                                                               '_id':\n",
    "                                                               {\n",
    "                                                                   'companyname':'$companyname',\n",
    "                                                                   'franchisename':'$franchisename'\n",
    "                                                               },\n",
    "                                                               \"uniqueclientlist\":{\"$addToSet\":'$Dedupegroup'},\n",
    "                                                               \"transactioncount\":\n",
    "                                                               {\n",
    "                                                                   '$sum': 1\n",
    "                                                               },\n",
    "                                                               \"transactionamount\":\n",
    "                                                               {\n",
    "                                                                   '$sum':'$TransactionAmount'\n",
    "                                                               }\n",
    "                                                           }\n",
    "                                                       },\n",
    "                                                       {'$project':{'_id':0,'companyname':'$_id.companyname',\n",
    "                                                                    'franchisename':'$_id.franchisename',\n",
    "#                                                                     'companyindex':'$_id.companyindex',\n",
    "                                                                    'n_uniqueclients':{'$size': \"$uniqueclientlist\"},\n",
    "                                                                   'transactioncount':1,\n",
    "                                                                   'transactionamount':1}}\n",
    "                                                      ], allowDiskUse=True)))\n",
    "\n"
   ]
  },
  {
   "cell_type": "code",
   "execution_count": 4,
   "metadata": {
    "collapsed": true
   },
   "outputs": [],
   "source": [
    "collectionlist=['clientswipes_201702','clientswipes_201703',\n",
    "                'clientswipes_201704','clientswipes_201705','clientswipes_201706',\n",
    "                'clientswipes_201707','clientswipes_201708','clientswipes_201709',\n",
    "                'clientswipes_201710','clientswipes_201711','clientswipes_201712',\n",
    "                'clientswipes_201801','clientswipes_201802','clientswipes_201803',\n",
    "                'clientswipes_201804','clientswipes_201805','clientswipes_201806',\n",
    "                'clientswipes_201807','clientswipes_201808','clientswipes_201809',\n",
    "                'clientswipes_201810','clientswipes_201811','clientswipes_201812',\n",
    "                'clientswipes_201901','clientswipes_201902','clientswipes_201903',\n",
    "                'clientswipes_201904','clientswipes_201905','clientswipes_201906',\n",
    "                'clientswipes_201907','clientswipes_201908','clientswipes_201909',\n",
    "                'clientswipes_201910','clientswipes_201911','clientswipes_201912',\n",
    "               'clientswipes_202001']"
   ]
  },
  {
   "cell_type": "markdown",
   "metadata": {},
   "source": [
    "### Create a NEW pivot in aggregated_franchise_spend for ALL the periods listed above:"
   ]
  },
  {
   "cell_type": "code",
   "execution_count": 5,
   "metadata": {},
   "outputs": [
    {
     "name": "stdout",
     "output_type": "stream",
     "text": [
      "===== now doing collection: clientswipes_201702 =====================================\n",
      "Doing period: 201702\n",
      "Collect data:\n",
      "Set index:\n",
      "Rename columns:\n",
      "Save (new) history:\n",
      "===== now doing collection: clientswipes_201703 =====================================\n",
      "Doing period: 201703\n",
      "Collect data:\n",
      "Set index:\n",
      "Rename columns:\n",
      "Save (new) history:\n",
      "===== now doing collection: clientswipes_201704 =====================================\n",
      "Doing period: 201704\n",
      "Collect data:\n",
      "Set index:\n",
      "Rename columns:\n",
      "Save (new) history:\n",
      "===== now doing collection: clientswipes_201705 =====================================\n",
      "Doing period: 201705\n",
      "Collect data:\n",
      "Set index:\n",
      "Rename columns:\n",
      "Save (new) history:\n",
      "===== now doing collection: clientswipes_201706 =====================================\n",
      "Doing period: 201706\n",
      "Collect data:\n",
      "Set index:\n",
      "Rename columns:\n",
      "Save (new) history:\n",
      "===== now doing collection: clientswipes_201707 =====================================\n",
      "Doing period: 201707\n",
      "Collect data:\n",
      "Set index:\n",
      "Rename columns:\n",
      "Save (new) history:\n",
      "===== now doing collection: clientswipes_201708 =====================================\n",
      "Doing period: 201708\n",
      "Collect data:\n",
      "Set index:\n",
      "Rename columns:\n",
      "Save (new) history:\n",
      "===== now doing collection: clientswipes_201709 =====================================\n",
      "Doing period: 201709\n",
      "Collect data:\n",
      "Set index:\n",
      "Rename columns:\n",
      "Save (new) history:\n",
      "===== now doing collection: clientswipes_201710 =====================================\n",
      "Doing period: 201710\n",
      "Collect data:\n",
      "Set index:\n",
      "Rename columns:\n",
      "Save (new) history:\n",
      "===== now doing collection: clientswipes_201711 =====================================\n",
      "Doing period: 201711\n",
      "Collect data:\n",
      "Set index:\n",
      "Rename columns:\n",
      "Save (new) history:\n",
      "===== now doing collection: clientswipes_201712 =====================================\n",
      "Doing period: 201712\n",
      "Collect data:\n",
      "Set index:\n",
      "Rename columns:\n",
      "Save (new) history:\n",
      "===== now doing collection: clientswipes_201801 =====================================\n",
      "Doing period: 201801\n",
      "Collect data:\n",
      "Set index:\n",
      "Rename columns:\n",
      "Save (new) history:\n",
      "===== now doing collection: clientswipes_201802 =====================================\n",
      "Doing period: 201802\n",
      "Collect data:\n",
      "Set index:\n",
      "Rename columns:\n",
      "Save (new) history:\n",
      "===== now doing collection: clientswipes_201803 =====================================\n",
      "Doing period: 201803\n",
      "Collect data:\n",
      "Set index:\n",
      "Rename columns:\n",
      "Save (new) history:\n",
      "===== now doing collection: clientswipes_201804 =====================================\n",
      "Doing period: 201804\n",
      "Collect data:\n",
      "Set index:\n",
      "Rename columns:\n",
      "Save (new) history:\n",
      "===== now doing collection: clientswipes_201805 =====================================\n",
      "Doing period: 201805\n",
      "Collect data:\n",
      "Set index:\n",
      "Rename columns:\n",
      "Save (new) history:\n",
      "===== now doing collection: clientswipes_201806 =====================================\n",
      "Doing period: 201806\n",
      "Collect data:\n",
      "Set index:\n",
      "Rename columns:\n",
      "Save (new) history:\n",
      "===== now doing collection: clientswipes_201807 =====================================\n",
      "Doing period: 201807\n",
      "Collect data:\n",
      "Set index:\n",
      "Rename columns:\n",
      "Save (new) history:\n",
      "===== now doing collection: clientswipes_201808 =====================================\n",
      "Doing period: 201808\n",
      "Collect data:\n",
      "Set index:\n",
      "Rename columns:\n",
      "Save (new) history:\n",
      "===== now doing collection: clientswipes_201809 =====================================\n",
      "Doing period: 201809\n",
      "Collect data:\n",
      "Set index:\n",
      "Rename columns:\n",
      "Save (new) history:\n",
      "===== now doing collection: clientswipes_201810 =====================================\n",
      "Doing period: 201810\n",
      "Collect data:\n",
      "Set index:\n",
      "Rename columns:\n",
      "Save (new) history:\n",
      "===== now doing collection: clientswipes_201811 =====================================\n",
      "Doing period: 201811\n",
      "Collect data:\n",
      "Set index:\n",
      "Rename columns:\n",
      "Save (new) history:\n",
      "===== now doing collection: clientswipes_201812 =====================================\n",
      "Doing period: 201812\n",
      "Collect data:\n",
      "Set index:\n",
      "Rename columns:\n",
      "Save (new) history:\n",
      "===== now doing collection: clientswipes_201901 =====================================\n",
      "Doing period: 201901\n",
      "Collect data:\n",
      "Set index:\n",
      "Rename columns:\n",
      "Save (new) history:\n",
      "===== now doing collection: clientswipes_201902 =====================================\n",
      "Doing period: 201902\n",
      "Collect data:\n",
      "Set index:\n",
      "Rename columns:\n",
      "Save (new) history:\n",
      "===== now doing collection: clientswipes_201903 =====================================\n",
      "Doing period: 201903\n",
      "Collect data:\n",
      "Set index:\n",
      "Rename columns:\n",
      "Save (new) history:\n",
      "===== now doing collection: clientswipes_201904 =====================================\n",
      "Doing period: 201904\n",
      "Collect data:\n",
      "Set index:\n",
      "Rename columns:\n",
      "Save (new) history:\n",
      "===== now doing collection: clientswipes_201905 =====================================\n",
      "Doing period: 201905\n",
      "Collect data:\n",
      "Set index:\n",
      "Rename columns:\n",
      "Save (new) history:\n",
      "===== now doing collection: clientswipes_201906 =====================================\n",
      "Doing period: 201906\n",
      "Collect data:\n",
      "Set index:\n",
      "Rename columns:\n",
      "Save (new) history:\n",
      "===== now doing collection: clientswipes_201907 =====================================\n",
      "Doing period: 201907\n",
      "Collect data:\n",
      "Set index:\n",
      "Rename columns:\n",
      "Save (new) history:\n",
      "===== now doing collection: clientswipes_201908 =====================================\n",
      "Doing period: 201908\n",
      "Collect data:\n",
      "Set index:\n",
      "Rename columns:\n",
      "Save (new) history:\n",
      "===== now doing collection: clientswipes_201909 =====================================\n",
      "Doing period: 201909\n",
      "Collect data:\n",
      "Set index:\n",
      "Rename columns:\n",
      "Save (new) history:\n",
      "===== now doing collection: clientswipes_201910 =====================================\n",
      "Doing period: 201910\n",
      "Collect data:\n",
      "Set index:\n",
      "Rename columns:\n",
      "Save (new) history:\n",
      "===== now doing collection: clientswipes_201911 =====================================\n",
      "Doing period: 201911\n",
      "Collect data:\n",
      "Set index:\n",
      "Rename columns:\n",
      "Save (new) history:\n",
      "===== now doing collection: clientswipes_201912 =====================================\n",
      "Doing period: 201912\n",
      "Collect data:\n",
      "Set index:\n",
      "Rename columns:\n",
      "Save (new) history:\n",
      "===== now doing collection: clientswipes_202001 =====================================\n",
      "Doing period: 202001\n",
      "Collect data:\n",
      "Set index:\n",
      "Rename columns:\n",
      "Save (new) history:\n"
     ]
    }
   ],
   "source": [
    "write_collection = client.lookups['aggregated_franchise_spend']\n",
    "dn=datetime.now()\n",
    "m=dn.month\n",
    "d=dn.day\n",
    "y=dn.year\n",
    "savestr= f'{y:0}'+f'{m:02}'+f'{d:02}'\n",
    "# df=pd.DataFrame()\n",
    "for collectionname in collectionlist:\n",
    "#     print('-----------------------------------------------------------------------------')\n",
    "    print('===== now doing collection: {collectionname} ====================================='.format(collectionname=collectionname))\n",
    "    period=collectionname[-6:]\n",
    "    print('Doing period: {period}'.format(period=period))\n",
    "    read_collection=client.behaviourdb[collectionname]\n",
    "    print('Collect data:')    \n",
    "    agg_df=franchise_agg_fn(read_collection)\n",
    "    print('Set index:')    \n",
    "#     agg_df.set_index(['companyindex','companyname'],inplace=True)\n",
    "    print('Rename columns:')        \n",
    "    agg_df.rename(columns={'transactionamount':'amount_{period}'.format(period=period),\n",
    "                      'transactioncount':'count_{period}'.format(period=period),\n",
    "                          'n_uniqueclients':'n_uniqueclients_{period}'.format(period=period)}, inplace=True)\n",
    "#     if df.empty:\n",
    "#         print('The history is still empty!')\n",
    "#         df=agg_df.copy()\n",
    "#     else:\n",
    "#         print('Merge new data with (non-empty) history:')        \n",
    "#         df=df.merge(agg_df, right_index=True,left_index=True, how='outer')\n",
    "    print('Save (new) history:')\n",
    "#     agg_df.reset_index(inplace=True)\n",
    "    agg_df['extracted_date']=savestr\n",
    "    write_collection.insert_many(agg_df.to_dict('records'))\n",
    "#     df.to_csv(df.to_csv('/home/christo/data/companydb_franchiselevel_aggregated_pivot_{savestr}.csv'.format(savestr=savestr)))\n",
    "    "
   ]
  },
  {
   "cell_type": "code",
   "execution_count": null,
   "metadata": {
    "collapsed": true
   },
   "outputs": [],
   "source": [
    "def company_franchise_agg_fn(collection, companyname):\n",
    "    return pd.DataFrame(\n",
    "    list(collection.aggregate([{'$match':\n",
    "                                                        {\n",
    "                                                            'companyname': companyname\n",
    "                                                        }\n",
    "                                                       },\n",
    "                                                       {'$project':{\n",
    "                                                           'companyname':1,\n",
    "                                                           'franchisename':1,\n",
    "                                                           'Dedupegroup':1,\n",
    "#                                                            'companyindex':1,\n",
    "                                                           'TransactionAmount':1}},\n",
    "                                                       {\n",
    "                                                           '$group':\n",
    "                                                           {\n",
    "                                                               '_id':\n",
    "                                                               {\n",
    "                                                                   'companyname':'$companyname',\n",
    "                                                                   'franchisename':'$franchisename'\n",
    "                                                               },\n",
    "                                                               \"uniqueclientlist\":{\"$addToSet\":'$Dedupegroup'},\n",
    "                                                               \"transactioncount\":\n",
    "                                                               {\n",
    "                                                                   '$sum': 1\n",
    "                                                               },\n",
    "                                                               \"transactionamount\":\n",
    "                                                               {\n",
    "                                                                   '$sum':'$TransactionAmount'\n",
    "                                                               }\n",
    "                                                           }\n",
    "                                                       },\n",
    "                                                       {'$project':{'_id':0,'companyname':'$_id.companyname',\n",
    "                                                                    'franchisename':'$_id.franchisename',\n",
    "#                                                                     'companyindex':'$_id.companyindex',\n",
    "                                                                    'n_uniqueclients':{'$size': \"$uniqueclientlist\"},\n",
    "                                                                   'transactioncount':1,\n",
    "                                                                   'transactionamount':1}}\n",
    "                                                      ], allowDiskUse=True)))\n",
    "\n"
   ]
  },
  {
   "cell_type": "code",
   "execution_count": null,
   "metadata": {},
   "outputs": [],
   "source": [
    "write_collection = client.lookups['aggregated_franchise_spend']\n",
    "dn=datetime.now()\n",
    "m=dn.month\n",
    "d=dn.day\n",
    "y=dn.year\n",
    "savestr= f'{y:0}'+f'{m:02}'+f'{d:02}'+'_BOLT_0'\n",
    "companyname='BOLT'\n",
    "# df=pd.DataFrame()\n",
    "for collectionname in collectionlist:\n",
    "#     print('-----------------------------------------------------------------------------')\n",
    "    print('===== now doing collection: {collectionname} ====================================='.format(collectionname=collectionname))\n",
    "    period=collectionname[-6:]\n",
    "    print('Doing period: {period}'.format(period=period))\n",
    "    read_collection=client.behaviourdb[collectionname]\n",
    "    print('Collect data:')    \n",
    "    agg_df=company_franchise_agg_fn(read_collection, companyname)\n",
    "    print('Set index:')    \n",
    "#     agg_df.set_index(['companyindex','companyname'],inplace=True)\n",
    "    print('Rename columns:')        \n",
    "    agg_df.rename(columns={'transactionamount':'amount_{period}'.format(period=period),\n",
    "                      'transactioncount':'count_{period}'.format(period=period),\n",
    "                          'n_uniqueclients':'n_uniqueclients_{period}'.format(period=period)}, inplace=True)\n",
    "#     if df.empty:\n",
    "#         print('The history is still empty!')\n",
    "#         df=agg_df.copy()\n",
    "#     else:\n",
    "#         print('Merge new data with (non-empty) history:')        \n",
    "#         df=df.merge(agg_df, right_index=True,left_index=True, how='outer')\n",
    "    print('Save (new) history:')\n",
    "#     agg_df.reset_index(inplace=True)\n",
    "    agg_df['extracted_date']=savestr\n",
    "    write_collection.insert_many(agg_df.to_dict('records'))\n",
    "#     df.to_csv(df.to_csv('/home/christo/data/companydb_franchiselevel_aggregated_pivot_{savestr}.csv'.format(savestr=savestr)))\n",
    "    "
   ]
  },
  {
   "cell_type": "code",
   "execution_count": null,
   "metadata": {
    "collapsed": true
   },
   "outputs": [],
   "source": [
    "df=pd.DataFrame(list(client.lookups['aggregated_franchise_spend'].find({companyname:'BOLT'})))"
   ]
  },
  {
   "cell_type": "code",
   "execution_count": null,
   "metadata": {},
   "outputs": [],
   "source": [
    "df=pd.DataFrame()\n",
    "df.empty"
   ]
  },
  {
   "cell_type": "code",
   "execution_count": null,
   "metadata": {
    "collapsed": true
   },
   "outputs": [],
   "source": [
    "periods=['201901','201902','201903','201904','201905','201906','201907','201908','201909','201910','201911','201912']"
   ]
  },
  {
   "cell_type": "code",
   "execution_count": null,
   "metadata": {},
   "outputs": [],
   "source": [
    "frames=[]\n",
    "# period='201902'\n",
    "df=pd.DataFrame()\n",
    "for period in periods:\n",
    "    print('- period {period} ---------------------------------------------------------------------------'.format(period=period))\n",
    "    frame=pd.DataFrame(list(client.lookups['aggregated_franchise_spend'].find({'companyname':'BOLT','extracted_date':savestr, 'amount_{period}'.format(period=period):{'$exists':True}})))\n",
    "    frame.pop('_id')\n",
    "    print(frame.shape)\n",
    "    if df.empty:\n",
    "        df=frame\n",
    "    else:\n",
    "        df=df.merge(frame, left_on=['companyname', 'extracted_date', 'franchisename'],\n",
    "             right_on=['companyname', 'extracted_date', 'franchisename'], how='outer')"
   ]
  },
  {
   "cell_type": "code",
   "execution_count": null,
   "metadata": {
    "collapsed": true
   },
   "outputs": [],
   "source": [
    "df.to_csv(path_or_buf='/home/christo/data/bolt_franchise_summary.csv', index = False)"
   ]
  },
  {
   "cell_type": "code",
   "execution_count": null,
   "metadata": {
    "collapsed": true
   },
   "outputs": [],
   "source": [
    "period='201911'\n",
    "f1=pd.DataFrame(list(client.lookups['aggregated_franchise_spend'].find({'companyname':'BOLT','extracted_date':savestr, 'amount_{period}'.format(period=period):{'$exists':True}})))\n",
    "period='201910'\n",
    "f2=pd.DataFrame(list(client.lookups['aggregated_franchise_spend'].find({'companyname':'BOLT','extracted_date':savestr, 'amount_{period}'.format(period=period):{'$exists':True}})))\n"
   ]
  },
  {
   "cell_type": "code",
   "execution_count": null,
   "metadata": {},
   "outputs": [],
   "source": [
    "f0=pd.DataFrame()\n",
    "f1.merge(f0, left_on=['companyname', 'extracted_date', 'franchisename'],\n",
    "         right_on=['companyname', 'extracted_date', 'franchisename'], how='outer')"
   ]
  },
  {
   "cell_type": "code",
   "execution_count": null,
   "metadata": {
    "collapsed": true
   },
   "outputs": [],
   "source": [
    "def client_agg_fn(collection):\n",
    "    return pd.DataFrame(\n",
    "    list(collection.aggregate([{'$match':\n",
    "                                                        {\n",
    "                                                            'companyname':\n",
    "                                                            {\n",
    "                                                                '$exists':True\n",
    "                                                            }\n",
    "                                                        }\n",
    "                                                       },\n",
    "                                                       {'$project':{'companyname':1,\n",
    "                                                                    'Dedupegroup':1,\n",
    "                                                                    'companyindex':1,\n",
    "                                                                   'TransactionAmount':1}},\n",
    "                                                       {\n",
    "                                                           '$group':\n",
    "                                                           {\n",
    "                                                               '_id':\n",
    "                                                               {\n",
    "                                                                   'companyname':'$companyname',\n",
    "                                                                   'companyindex':'$companyindex'\n",
    "                                                               },\n",
    "                                                               \"uniqueclientlist\":{\"$addToSet\":'$Dedupegroup'},\n",
    "                                                               \"transactioncount\":\n",
    "                                                               {\n",
    "                                                                   '$sum': 1\n",
    "                                                               },\n",
    "                                                               \"transactionamount\":\n",
    "                                                               {\n",
    "                                                                   '$sum':'$TransactionAmount'\n",
    "                                                               }\n",
    "                                                           }\n",
    "                                                       },\n",
    "                                                       {'$project':{'_id':0,'companyname':'$_id.companyname',\n",
    "                                                                    'companyindex':'$_id.companyindex',\n",
    "                                                                    'n_uniqueclients':{'$size': \"$uniqueclientlist\"},\n",
    "                                                                   'transactioncount':1,\n",
    "                                                                   'transactionamount':1}}\n",
    "                                                      ], allowDiskUse=True)))\n",
    "\n"
   ]
  },
  {
   "cell_type": "code",
   "execution_count": null,
   "metadata": {
    "collapsed": true
   },
   "outputs": [],
   "source": [
    "read_collection = client.lookups['aggregated_franchise_spend']"
   ]
  },
  {
   "cell_type": "code",
   "execution_count": null,
   "metadata": {
    "collapsed": true
   },
   "outputs": [],
   "source": [
    "df=pd.DataFrame(list(read_collection.find({'companyname':'BOLT', 'amount_201909':{'$exists':True}})))"
   ]
  },
  {
   "cell_type": "code",
   "execution_count": null,
   "metadata": {
    "collapsed": true
   },
   "outputs": [],
   "source": [
    "df.sort_values([\"n_uniqueclients_201909\"], ascending = (True))"
   ]
  },
  {
   "cell_type": "code",
   "execution_count": null,
   "metadata": {
    "collapsed": true
   },
   "outputs": [],
   "source": [
    "read_collection = client.lookups['aggregated_franchise_spend']\n",
    "df=pd.DataFrame(list(read_collection.distinct('extracted_date')))"
   ]
  },
  {
   "cell_type": "code",
   "execution_count": null,
   "metadata": {
    "collapsed": true
   },
   "outputs": [],
   "source": [
    "df[0][0]"
   ]
  },
  {
   "cell_type": "code",
   "execution_count": null,
   "metadata": {
    "collapsed": true
   },
   "outputs": [],
   "source": [
    "collection=client.behaviourdb['clientswipes_201701']\n",
    "df=pd.DataFrame(list(collection.distinct('franchisename',{'companyname':'BOLT'})))"
   ]
  },
  {
   "cell_type": "code",
   "execution_count": null,
   "metadata": {
    "collapsed": true
   },
   "outputs": [],
   "source": [
    "list(df)"
   ]
  },
  {
   "cell_type": "code",
   "execution_count": null,
   "metadata": {
    "collapsed": true
   },
   "outputs": [],
   "source": [
    "flist=list(df[0])"
   ]
  },
  {
   "cell_type": "code",
   "execution_count": null,
   "metadata": {
    "collapsed": true
   },
   "outputs": [],
   "source": [
    "set(flist)"
   ]
  },
  {
   "cell_type": "code",
   "execution_count": null,
   "metadata": {
    "collapsed": true
   },
   "outputs": [],
   "source": [
    "collection=client.lookups['nedbank_companies']\n",
    "df=pd.DataFrame(list(collection.find({'companyname':'BOLT'})))"
   ]
  },
  {
   "cell_type": "code",
   "execution_count": null,
   "metadata": {
    "collapsed": true
   },
   "outputs": [],
   "source": [
    "avoidlists=df.avoidlists[0]\n",
    "aliases=df.aliases[0]"
   ]
  },
  {
   "cell_type": "code",
   "execution_count": null,
   "metadata": {
    "collapsed": true
   },
   "outputs": [],
   "source": [
    "{1,2, 7,8,9,10}-{1,2,3,4,5,6}"
   ]
  },
  {
   "cell_type": "code",
   "execution_count": null,
   "metadata": {
    "collapsed": true
   },
   "outputs": [],
   "source": [
    "aliases_set=set(aliases)\n",
    "aliases_set.intersection(set(avoidlists))"
   ]
  },
  {
   "cell_type": "code",
   "execution_count": null,
   "metadata": {
    "collapsed": true
   },
   "outputs": [],
   "source": [
    "list(set(flist))"
   ]
  },
  {
   "cell_type": "code",
   "execution_count": null,
   "metadata": {
    "collapsed": true
   },
   "outputs": [],
   "source": [
    "set(flist)-set(avoidlists)"
   ]
  },
  {
   "cell_type": "code",
   "execution_count": null,
   "metadata": {
    "collapsed": true
   },
   "outputs": [],
   "source": [
    "avoidlists.sort()"
   ]
  },
  {
   "cell_type": "code",
   "execution_count": null,
   "metadata": {
    "collapsed": true
   },
   "outputs": [],
   "source": [
    "avoidlists"
   ]
  },
  {
   "cell_type": "code",
   "execution_count": null,
   "metadata": {
    "collapsed": true
   },
   "outputs": [],
   "source": [
    "flist.sort()\n",
    "flist"
   ]
  },
  {
   "cell_type": "code",
   "execution_count": null,
   "metadata": {
    "collapsed": true
   },
   "outputs": [],
   "source": []
  }
 ],
 "metadata": {
  "kernelspec": {
   "display_name": "Python 3",
   "language": "python",
   "name": "python3"
  },
  "language_info": {
   "codemirror_mode": {
    "name": "ipython",
    "version": 3
   },
   "file_extension": ".py",
   "mimetype": "text/x-python",
   "name": "python",
   "nbconvert_exporter": "python",
   "pygments_lexer": "ipython3",
   "version": "3.6.3"
  }
 },
 "nbformat": 4,
 "nbformat_minor": 2
}
