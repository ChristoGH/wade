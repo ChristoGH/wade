{
 "cells": [
  {
   "cell_type": "code",
   "execution_count": 1,
   "metadata": {
    "collapsed": true
   },
   "outputs": [],
   "source": [
    "import sys\n",
    "sys.path.insert(0, '/home/christo/notebooks/christo/prod/')\n",
    "sys.path.insert(0, '/home/christo/notebooks/christo/company_maintenance_scripts/')\n",
    "import re\n",
    "import pandas as pd\n",
    "from NedbankSpendPy import  client\n",
    "import time"
   ]
  },
  {
   "cell_type": "code",
   "execution_count": 2,
   "metadata": {
    "collapsed": true
   },
   "outputs": [],
   "source": [
    "from nedbank_companies_addition_lib import maxindexfn, mongo_regex_searchstring\n",
    "from nedbank_companies_addition_lib import nedbankcompany_class_check, classlookupfn, input_dict_fn, mongo_regex_searchstring_row\n",
    "from nedbank_companies_addition_lib import  nedbank_companies_db, regex_searchstring"
   ]
  },
  {
   "cell_type": "code",
   "execution_count": null,
   "metadata": {
    "collapsed": true
   },
   "outputs": [],
   "source": [
    "def client_agg_fn(collection):\n",
    "    return pd.DataFrame(\n",
    "    list(collection.aggregate([{'$match':\n",
    "                                                        {\n",
    "                                                            'companyname':\n",
    "                                                            {\n",
    "                                                                '$exists':True\n",
    "                                                            }\n",
    "                                                        }\n",
    "                                                       },\n",
    "                                                       {'$project':{'companyname':1,\n",
    "                                                                    'Dedupegroup':1,\n",
    "                                                                    'companyindex':1,\n",
    "                                                                   'TransactionAmount':1}},\n",
    "                                                       {\n",
    "                                                           '$group':\n",
    "                                                           {\n",
    "                                                               '_id':\n",
    "                                                               {\n",
    "                                                                   'companyname':'$companyname',\n",
    "                                                                   'companyindex':'$companyindex'\n",
    "                                                               },\n",
    "                                                               \"uniqueclientlist\":{\"$addToSet\":'$Dedupegroup'},\n",
    "                                                               \"transactioncount\":\n",
    "                                                               {\n",
    "                                                                   '$sum': 1\n",
    "                                                               },\n",
    "                                                               \"transactionamount\":\n",
    "                                                               {\n",
    "                                                                   '$sum':'$TransactionAmount'\n",
    "                                                               }\n",
    "                                                           }\n",
    "                                                       },\n",
    "                                                       {'$project':{'_id':0,'companyname':'$_id.companyname',\n",
    "                                                                    'companyindex':'$_id.companyindex',\n",
    "                                                                    'n_uniqueclients':{'$size': \"$uniqueclientlist\"},\n",
    "                                                                   'transactioncount':1,\n",
    "                                                                   'transactionamount':1}}\n",
    "                                                      ], allowDiskUse=True)))\n",
    "\n"
   ]
  },
  {
   "cell_type": "code",
   "execution_count": 3,
   "metadata": {
    "collapsed": true
   },
   "outputs": [],
   "source": [
    "def company_agg_fn(collection):\n",
    "    return pd.DataFrame(\n",
    "    list(collection.aggregate([{'$match':\n",
    "                                                        {\n",
    "                                                            'companyname':\n",
    "                                                            {\n",
    "                                                                '$exists':True\n",
    "                                                            }\n",
    "                                                        }\n",
    "                                                       },\n",
    "                                                       {'$project':{\n",
    "                                                           'companyname':1,\n",
    "#                                                            'franchisename':1,\n",
    "                                                           'Dedupegroup':1,\n",
    "#                                                            'companyindex':1,\n",
    "                                                           'TransactionAmount':1}},\n",
    "                                                       {\n",
    "                                                           '$group':\n",
    "                                                           {\n",
    "                                                               '_id':\n",
    "                                                               {\n",
    "                                                                   'companyname':'$companyname',\n",
    "#                                                                    'franchisename':'$franchisename'\n",
    "                                                               },\n",
    "                                                               \"uniqueclientlist\":{\"$addToSet\":'$Dedupegroup'},\n",
    "                                                               \"transactioncount\":\n",
    "                                                               {\n",
    "                                                                   '$sum': 1\n",
    "                                                               },\n",
    "                                                               \"transactionamount\":\n",
    "                                                               {\n",
    "                                                                   '$sum':'$TransactionAmount'\n",
    "                                                               }\n",
    "                                                           }\n",
    "                                                       },\n",
    "                                                       {'$project':{'_id':0,'companyname':'$_id.companyname',\n",
    "                                                                    'franchisename':'$_id.franchisename',\n",
    "#                                                                     'companyindex':'$_id.companyindex',\n",
    "                                                                    'n_uniqueclients':{'$size': \"$uniqueclientlist\"},\n",
    "                                                                   'transactioncount':1,\n",
    "                                                                   'transactionamount':1}}\n",
    "                                                      ], allowDiskUse=True)))\n",
    "\n"
   ]
  },
  {
   "cell_type": "code",
   "execution_count": 4,
   "metadata": {
    "collapsed": true
   },
   "outputs": [],
   "source": [
    "collectionlist=['clientswipes_201701','clientswipes_201702','clientswipes_201703',\n",
    "                'clientswipes_201704','clientswipes_201705','clientswipes_201706',\n",
    "                'clientswipes_201707','clientswipes_201708','clientswipes_201709',\n",
    "                'clientswipes_201710','clientswipes_201711','clientswipes_201712',\n",
    "                'clientswipes_201801','clientswipes_201802','clientswipes_201803',\n",
    "                'clientswipes_201804','clientswipes_201805','clientswipes_201806',\n",
    "                'clientswipes_201807','clientswipes_201808','clientswipes_201809',\n",
    "                'clientswipes_201810','clientswipes_201811','clientswipes_201812',                \n",
    "                'clientswipes_201901','clientswipes_201902','clientswipes_201903',\n",
    "                'clientswipes_201904','clientswipes_201905','clientswipes_201906',\n",
    "                'clientswipes_201907','clientswipes_201908','clientswipes_201909',\n",
    "                'clientswipes_201910','clientswipes_201911','clientswipes_201912']"
   ]
  },
  {
   "cell_type": "code",
   "execution_count": 5,
   "metadata": {
    "collapsed": true
   },
   "outputs": [],
   "source": [
    "from datetime import datetime "
   ]
  },
  {
   "cell_type": "code",
   "execution_count": 6,
   "metadata": {},
   "outputs": [
    {
     "ename": "NameError",
     "evalue": "name 'franchise_agg_fn' is not defined",
     "output_type": "error",
     "traceback": [
      "\u001b[0;31m---------------------------------------------------------------------------\u001b[0m",
      "\u001b[0;31mNameError\u001b[0m                                 Traceback (most recent call last)",
      "\u001b[0;32m<ipython-input-6-d61b16c6d7dd>\u001b[0m in \u001b[0;36m<module>\u001b[0;34m()\u001b[0m\n\u001b[1;32m      1\u001b[0m \u001b[0mcollectionname\u001b[0m\u001b[0;34m=\u001b[0m\u001b[0mcollectionlist\u001b[0m\u001b[0;34m[\u001b[0m\u001b[0;36m0\u001b[0m\u001b[0;34m]\u001b[0m\u001b[0;34m\u001b[0m\u001b[0m\n\u001b[1;32m      2\u001b[0m \u001b[0mcollection\u001b[0m\u001b[0;34m=\u001b[0m\u001b[0mclient\u001b[0m\u001b[0;34m.\u001b[0m\u001b[0mbehaviourdb\u001b[0m\u001b[0;34m[\u001b[0m\u001b[0mcollectionname\u001b[0m\u001b[0;34m]\u001b[0m\u001b[0;34m\u001b[0m\u001b[0m\n\u001b[0;32m----> 3\u001b[0;31m \u001b[0mdf\u001b[0m\u001b[0;34m=\u001b[0m\u001b[0mfranchise_agg_fn\u001b[0m\u001b[0;34m(\u001b[0m\u001b[0mcollection\u001b[0m\u001b[0;34m)\u001b[0m\u001b[0;34m\u001b[0m\u001b[0m\n\u001b[0m",
      "\u001b[0;31mNameError\u001b[0m: name 'franchise_agg_fn' is not defined"
     ]
    }
   ],
   "source": [
    "collectionname=collectionlist[0]\n",
    "collection=client.behaviourdb[collectionname]\n",
    "df=franchise_agg_fn(collection)"
   ]
  },
  {
   "cell_type": "code",
   "execution_count": null,
   "metadata": {
    "collapsed": true
   },
   "outputs": [],
   "source": [
    "dn=datetime.now()\n",
    "m=dn.month\n",
    "d=dn.day\n",
    "y=dn.year\n",
    "savestr= f'{y:0}'+f'{m:02}'+f'{d:02}'\n",
    "df=pd.DataFrame()\n",
    "for collectionname in collectionlist:\n",
    "#     print('-----------------------------------------------------------------------------')\n",
    "    print('===== now doing collection: {collectionname} ====================================='.format(collectionname=collectionname))\n",
    "    period=collectionname[-6:]\n",
    "    print('Doing period: {period}'.format(period=period))\n",
    "    collection=client.behaviourdb[collectionname]\n",
    "    print('Collect data:')    \n",
    "    agg_df=client_agg_fn(collection)\n",
    "    print('Set index:')    \n",
    "    agg_df.set_index(['companyindex','companyname'],inplace=True)\n",
    "    print('Rename columns:')        \n",
    "    agg_df.rename(columns={'transactionamount':'amount_{period}'.format(period=period),\n",
    "                      'transactioncount':'count_{period}'.format(period=period),\n",
    "                          'n_uniqueclients':'n_uniqueclients_{period}'.format(period=period)}, inplace=True)\n",
    "#     agg_df['period']=period\n",
    "    if df.empty:\n",
    "        print('The history is still empty!')\n",
    "        df=agg_df.copy()\n",
    "    else:\n",
    "        print('Merge new data with (non-empty) history:')        \n",
    "        df=df.merge(agg_df, right_index=True,left_index=True, how='outer')\n",
    "    print('Save (new) history:')\n",
    "#     df.to_csv(df.to_csv('/home/christo/data/companydb_franchiselevel_aggregated_pivot_{savestr}.csv'.format(savestr=savestr)))\n",
    "    "
   ]
  },
  {
   "cell_type": "code",
   "execution_count": null,
   "metadata": {
    "collapsed": true
   },
   "outputs": [],
   "source": [
    "df.to_csv('/home/christo/data/companydb_franchiselevel_aggregated_pivot_{savestr}.csv'.format(savestr=savestr))"
   ]
  },
  {
   "cell_type": "code",
   "execution_count": null,
   "metadata": {
    "collapsed": true
   },
   "outputs": [],
   "source": [
    "collection = client.lookups['aggregated_company_spend']\n",
    "df.reset_index(inplace=True)\n",
    "df['extracted_date']=savestr\n",
    "collection.insert_many(df.to_dict('records'))"
   ]
  },
  {
   "cell_type": "code",
   "execution_count": null,
   "metadata": {
    "collapsed": true
   },
   "outputs": [],
   "source": [
    "list(df)"
   ]
  },
  {
   "cell_type": "markdown",
   "metadata": {},
   "source": [
    "#### Extract distinct franchisenames:"
   ]
  },
  {
   "cell_type": "markdown",
   "metadata": {
    "collapsed": true
   },
   "source": [
    "#### - BOLT:"
   ]
  },
  {
   "cell_type": "code",
   "execution_count": null,
   "metadata": {
    "collapsed": true
   },
   "outputs": [],
   "source": []
  }
 ],
 "metadata": {
  "kernelspec": {
   "display_name": "Python 3",
   "language": "python",
   "name": "python3"
  },
  "language_info": {
   "codemirror_mode": {
    "name": "ipython",
    "version": 3
   },
   "file_extension": ".py",
   "mimetype": "text/x-python",
   "name": "python",
   "nbconvert_exporter": "python",
   "pygments_lexer": "ipython3",
   "version": "3.6.3"
  }
 },
 "nbformat": 4,
 "nbformat_minor": 2
}
